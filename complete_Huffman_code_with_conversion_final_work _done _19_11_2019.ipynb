{
 "cells": [
  {
   "cell_type": "code",
   "execution_count": 423,
   "metadata": {},
   "outputs": [],
   "source": [
    "import numpy as np\n",
    "from functools import cmp_to_key\n",
    "import csv\n",
    "import cv2\n",
    "import os\n",
    "import numpy as np\n",
    "import numpy as ndarray\n",
    "import tensorflow as tf\n",
    "import pandas as pd\n",
    "import xlrd\n",
    "import collections\n",
    "import numpy \n",
    "import numpy as geek \n",
    "import heapq\n",
    "import heapq\n",
    "import os\n",
    "from functools import cmp_to_key"
   ]
  },
  {
   "cell_type": "code",
   "execution_count": 426,
   "metadata": {},
   "outputs": [],
   "source": [
    "aldata=[]\n",
    "count=0\n",
    "with open(r\"C:\\Users\\Student\\Desktop\\dataset_1\\our_data_text_format.csv\",'rt')as d:\n",
    "    data = csv.reader(d, delimiter = ',')\n",
    "    for row in data:\n",
    "        #print(row)          # print all elements in the dataset\n",
    "        count+=1\n",
    "        aldata.append(row)    \n",
    "#print(count)                # print total rows in the dataset\n",
    "\n",
    "#print(row)\n"
   ]
  },
  {
   "cell_type": "code",
   "execution_count": 425,
   "metadata": {},
   "outputs": [],
   "source": [
    "#print(aldata)"
   ]
  },
  {
   "cell_type": "code",
   "execution_count": 428,
   "metadata": {},
   "outputs": [],
   "source": [
    "data1= pd.DataFrame(aldata) \n",
    "#print(data1)"
   ]
  },
  {
   "cell_type": "code",
   "execution_count": 429,
   "metadata": {},
   "outputs": [
    {
     "data": {
      "text/plain": [
       "RangeIndex(start=0, stop=24, step=1)"
      ]
     },
     "execution_count": 429,
     "metadata": {},
     "output_type": "execute_result"
    }
   ],
   "source": [
    "data1.shape                            # find the shape of the dataset \n",
    "\n",
    "data1.columns                          # find the total columns of the dataset"
   ]
  },
  {
   "cell_type": "code",
   "execution_count": 430,
   "metadata": {},
   "outputs": [],
   "source": [
    "data1.columns=['q1', 'q2', 'q3', 'q4', 'q5', 'q6','q7','q8','q9','q10','q11','q12','q13','q14','q15','q16','q17','q18','q19','q20','q21','q22','q23','q24']\n",
    "\n",
    "                                              # change the labels with q1, q2, q3................q24"
   ]
  },
  {
   "cell_type": "code",
   "execution_count": 431,
   "metadata": {},
   "outputs": [
    {
     "name": "stdout",
     "output_type": "stream",
     "text": [
      "            q1      q2   q3             q4          q5      q6            q7  \\\n",
      "0        URBAN     OBC   NO           CBSE        CBSE  FATHER         OTHER   \n",
      "1        URBAN     GEN   NO           CBSE  SATE BOARD  FATHER       PRIVATE   \n",
      "2    SUB URBAN     OBC   NO           CBSE  SATE BOARD  MOTHER          GOVT   \n",
      "3        RURAL     GEN   NO           CBSE        CBSE  MOTHER         OTHER   \n",
      "4        URBAN     OBC   NO           CBSE  SATE BOARD  FATHER       PRIVATE   \n",
      "5        RURAL   SC/ST   NO  STATE  BOARD   SATE BOARD  FATHER         OTHER   \n",
      "6        RURAL   SC/ST   NO           CBSE  SATE BOARD  FATHER          GOVT   \n",
      "7        RURAL     OBC   NO  STATE  BOARD   SATE BOARD  FATHER         OTHER   \n",
      "8        URBAN   SC/ST   NO  STATE  BOARD   SATE BOARD  FATHER          GOVT   \n",
      "9    SUB URBAN     GEN   NO           ICSE  SATE BOARD  FATHER          GOVT   \n",
      "10       RURAL     GEN   NO           CBSE        CBSE  FATHER          GOVT   \n",
      "11   SUB URBAN     GEN   NO           CBSE        CBSE    BOTH  OWN BUSINESS   \n",
      "12       RURAL   SC/ST  YES  STATE  BOARD   SATE BOARD  FATHER          GOVT   \n",
      "13       URBAN     GEN   NO  STATE  BOARD   SATE BOARD  FATHER  OWN BUSINESS   \n",
      "14       URBAN     GEN   NO           ICSE        CBSE  FATHER          GOVT   \n",
      "15       RURAL   SC/ST   NO           CBSE        CBSE  FATHER          GOVT   \n",
      "16       RURAL     GEN   NO  STATE  BOARD   SATE BOARD  FATHER       PRIVATE   \n",
      "17       RURAL     OBC   NO  STATE  BOARD   SATE BOARD      NO         OTHER   \n",
      "18       RURAL     OBC   NO  STATE  BOARD   SATE BOARD  FATHER       PRIVATE   \n",
      "19       URBAN     GEN   NO  STATE  BOARD   SATE BOARD  FATHER  OWN BUSINESS   \n",
      "20       RURAL   SC/ST   NO  STATE  BOARD   SATE BOARD  FATHER         OTHER   \n",
      "21   SUB URBAN     GEN   NO           CBSE        CBSE  FATHER          GOVT   \n",
      "22       RURAL     GEN   NO           CBSE        CBSE  FATHER       PRIVATE   \n",
      "23       URBAN     OBC   NO           CBSE        CBSE  FATHER          GOVT   \n",
      "24       RURAL     OBC   NO  STATE  BOARD   SATE BOARD  FATHER  OWN BUSINESS   \n",
      "25       RURAL     OBC   NO           CBSE        CBSE  FATHER          GOVT   \n",
      "26       URBAN     GEN   NO           CBSE        CBSE  FATHER          GOVT   \n",
      "27       URBAN   SC/ST   NO           CBSE        CBSE  FATHER          GOVT   \n",
      "28       URBAN     GEN   NO           CBSE        CBSE    BOTH  OWN BUSINESS   \n",
      "29       URBAN   SC/ST   NO  STATE  BOARD   SATE BOARD  FATHER          GOVT   \n",
      "..         ...     ...  ...            ...         ...     ...           ...   \n",
      "520      RURAL   SC/ST   NO           CBSE        CBSE  FATHER          GOVT   \n",
      "521      RURAL     GEN   NO           CBSE        CBSE    BOTH  OWN BUSINESS   \n",
      "522      URBAN     GEN   NO  STATE  BOARD   SATE BOARD  MOTHER          GOVT   \n",
      "523  SUB URBAN   SC/ST   NO  STATE  BOARD   SATE BOARD  FATHER          GOVT   \n",
      "524  SUB URBAN     GEN   NO  STATE  BOARD   SATE BOARD  MOTHER          GOVT   \n",
      "525      URBAN   SC/ST   NO           CBSE  SATE BOARD  FATHER          GOVT   \n",
      "526      URBAN     GEN   NO  STATE  BOARD   SATE BOARD  MOTHER       PRIVATE   \n",
      "527  SUB URBAN     GEN   NO  STATE  BOARD   SATE BOARD  FATHER       PRIVATE   \n",
      "528      URBAN     GEN   NO           CBSE        CBSE  FATHER          GOVT   \n",
      "529      URBAN     GEN   NO           CBSE  SATE BOARD  FATHER          GOVT   \n",
      "530  SUB URBAN     GEN   NO           CBSE        CBSE  FATHER          GOVT   \n",
      "531      RURAL   SC/ST   NO  STATE  BOARD   SATE BOARD  FATHER          GOVT   \n",
      "532      URBAN   SC/ST   NO           CBSE  SATE BOARD  FATHER          GOVT   \n",
      "533      URBAN     GEN   NO           CBSE        CBSE  FATHER          GOVT   \n",
      "534      URBAN     GEN   NO           CBSE        CBSE  FATHER  OWN BUSINESS   \n",
      "535      URBAN  OTHERS   NO           CBSE        CBSE    BOTH       PRIVATE   \n",
      "536  SUB URBAN     GEN   NO           ICSE        CBSE    BOTH          GOVT   \n",
      "537      URBAN     GEN   NO           CBSE        CBSE    BOTH          GOVT   \n",
      "538      URBAN     GEN   NO  STATE  BOARD   SATE BOARD  FATHER          GOVT   \n",
      "539  SUB URBAN   SC/ST   NO  STATE  BOARD         CBSE  FATHER          GOVT   \n",
      "540      RURAL     GEN   NO           CBSE        CBSE  FATHER       PRIVATE   \n",
      "541      RURAL     GEN   NO           CBSE        CBSE  MOTHER          GOVT   \n",
      "542  SUB URBAN     GEN   NO           CBSE        CBSE    BOTH          GOVT   \n",
      "543  SUB URBAN     OBC   NO           ICSE        CBSE    BOTH          GOVT   \n",
      "544      RURAL     GEN   NO           CBSE        CBSE    BOTH          GOVT   \n",
      "545      RURAL     GEN   NO           ICSE        CBSE  FATHER          GOVT   \n",
      "546      RURAL     GEN   NO           CBSE        CBSE    BOTH          GOVT   \n",
      "547      URBAN     GEN  YES  STATE  BOARD   SATE BOARD    BOTH          GOVT   \n",
      "548      OTHER  OTHERS   NO  STATE  BOARD   SATE BOARD  FATHER          GOVT   \n",
      "549      OTHER   SC/ST  YES  STATE  BOARD   SATE BOARD  FATHER         OTHER   \n",
      "\n",
      "              q8       q9                  q10     ...      q15          q16  \\\n",
      "0     BELOW 1 LC    OTHER           OWN CHOICE     ...      YES    1 To 3 hr   \n",
      "1     BELOW 1 LC       NO           OWN CHOICE     ...      YES    1 To 3 Hr   \n",
      "2     1 To 2 LAC       12       ANY OTHER ELSE     ...      YES   BELOW 1 Hr   \n",
      "3     3 To 4 LAC       NO           OWN CHOICE     ...       NO   BELOW 1 Hr   \n",
      "4     BELOW 1 LC    OTHER           OWN CHOICE     ...      YES   1  To 3 hr   \n",
      "5     BELOW 1 LC       NO  PARENTS / RELATIVES     ...      YES   BELOW 1 Hr   \n",
      "6     3 To 4 LAC       NO           OWN CHOICE     ...       NO    5 To 7 Hr   \n",
      "7     BELOW 1 LC       12  PARENTS / RELATIVES     ...       NO    5 To 7 Hr   \n",
      "8     1 To 2 LAC       NO           OWN CHOICE     ...       NO    3 To 5 Hr   \n",
      "9     5 To 6 LAC       NO           OWN CHOICE     ...       NO    1 To 3 hr   \n",
      "10    5 To 6 LAC       NO           OWN CHOICE     ...       NO    1 To 3 hr   \n",
      "11    3 To 4 LAC       NO  PARENTS / RELATIVES     ...       NO    1 To 3 hr   \n",
      "12    3 To 4 LAC    OTHER  PARENTS / RELATIVES     ...      YES    3 To 5 Hr   \n",
      "13    5 To 6 LAC      YES  PARENTS / RELATIVES     ...       NO    1 To 3 hr   \n",
      "14    3 To 4 LAC       NO           OWN CHOICE     ...      YES    1 To 3 hr   \n",
      "15    3 To 4 LAC       NO           OWN CHOICE     ...      YES    1 To 3 hr   \n",
      "16    1 To 2 LAC       NO           OWN CHOICE     ...      YES    3 To 5 Hr   \n",
      "17    BELOW 1 LC       12           OWN CHOICE     ...       NO   BELOW 1 Hr   \n",
      "18    3 To 4 LAC       10           OWN CHOICE     ...       NO    3 To 5 Hr   \n",
      "19    BELOW 1 LC     BOTH           OWN CHOICE     ...       NO    3 To 5 Hr   \n",
      "20    BELOW 1 LC       NO  PARENTS / RELATIVES     ...      YES    1 To 3 hr   \n",
      "21    5 To 6 LAC       NO           OWN CHOICE     ...       NO    3 To 5 Hr   \n",
      "22    5 To 6 LAC       NO       ANY OTHER ELSE     ...      YES    1 To 3 hr   \n",
      "23    3 To 4 LAC    OTHER           OWN CHOICE     ...       NO    1 To 3 hr   \n",
      "24    BELOW 1 LC    OTHER           OWN CHOICE     ...      YES    5 To 7 Hr   \n",
      "25    3 To 4 LAC       NO           OWN CHOICE     ...      YES    1 To 3 hr   \n",
      "26    5 To 6 LAC       12  PARENTS / RELATIVES     ...      YES    1 To 3 hr   \n",
      "27   7 To 15 LAC       NO           OWN CHOICE     ...      YES    1 To 3 hr   \n",
      "28    1 To 2 LAC    OTHER           OWN CHOICE     ...       NO    1 To 3 hr   \n",
      "29   7 To 15 LAC       10           OWN CHOICE     ...      YES    3 To 5 Hr   \n",
      "..           ...      ...                  ...     ...      ...          ...   \n",
      "520   5 To 6 LAC       NO           OWN CHOICE     ...      YES    3 To 5 Hr   \n",
      "521   3 To 4 LAC       NO           OWN CHOICE     ...      YES    3 To 5 Hr   \n",
      "522   3 To 4 LAC       NO  PARENTS / RELATIVES     ...      YES    3 To 5 Hr   \n",
      "523   3 To 4 LAC       NO           OWN CHOICE     ...      YES    3 To 5 Hr   \n",
      "524   1 To 2 LAC       12  PARENTS / RELATIVES     ...      YES    1 To 3 hr   \n",
      "525   1 To 2 LAC       NO  PARENTS / RELATIVES     ...      YES    3 To 5 Hr   \n",
      "526   3 To 4 LAC       NO           OWN CHOICE     ...      YES    3 To 5 Hr   \n",
      "527   1 To 2 LAC       NO           OWN CHOICE     ...      YES    1 To 3 hr   \n",
      "528   5 To 6 LAC       NO           OWN CHOICE     ...      YES    3 To 5 Hr   \n",
      "529   3 To 4 LAC       12           OWN CHOICE     ...      YES    3 To 5 Hr   \n",
      "530   1 To 2 LAC       NO           OWN CHOICE     ...      YES    1 To 3 hr   \n",
      "531   3 To 4 LAC       NO  PARENTS / RELATIVES     ...      YES   BELOW 1 Hr   \n",
      "532   1 To 2 LAC       NO           OWN CHOICE     ...      YES    1 To 3 hr   \n",
      "533   3 To 4 LAC       10  PARENTS / RELATIVES     ...      YES  MORE THAN 7   \n",
      "534   BELOW 1 LC       10           OWN CHOICE     ...      YES  MORE THAN 7   \n",
      "535   1 To 2 LAC  10 & 12           OWN CHOICE     ...      YES    5 To 7 Hr   \n",
      "536   3 To 4 LAC       NO  PARENTS / RELATIVES     ...      YES    1 To 3 hr   \n",
      "537  7 To 15 LAC       NO  PARENTS / RELATIVES     ...       NO    1 To 3 hr   \n",
      "538   3 To 4 LAC       12           OWN CHOICE     ...      YES    3 To 5 Hr   \n",
      "539   1 To 2 LAC       10  PARENTS / RELATIVES     ...       NO    3 To 5 Hr   \n",
      "540   3 To 4 LAC       NO  PARENTS / RELATIVES     ...      YES    1 To 3 hr   \n",
      "541   3 To 4 LAC       NO           OWN CHOICE     ...       NO   BELOW 1 Hr   \n",
      "542  7 To 15 LAC        8           OWN CHOICE     ...      YES  MORE THAN 7   \n",
      "543  7 To 15 LAC       NO  PARENTS / RELATIVES     ...      YES    1 To 3 hr   \n",
      "544   1 To 2 LAC       NO           OWN CHOICE     ...      YES    3 To 5 Hr   \n",
      "545   1 To 2 LAC       NO           OWN CHOICE     ...      YES   BELOW 1 Hr   \n",
      "546   BELOW 1 LC       NO           OWN CHOICE     ...      YES    3 To 5 Hr   \n",
      "547   3 To 4 LAC       NO           OWN CHOICE     ...      YES   BELOW 1 Hr   \n",
      "548   5 To 6 LAC       NO           OWN CHOICE     ...      YES   BELOW 1 Hr   \n",
      "549   BELOW 1 LC    OTHER  PARENTS / RELATIVES     ...      YES    3 To 5 Hr   \n",
      "\n",
      "     q17           q18          q19          q20          q21   q22      q23  \\\n",
      "0    YES         GOVT.   71 To 80 %   71 To 80 %  81% & ABOVE    NO     NONE   \n",
      "1     NO         GOVT.  81% & ABOVE  81% & ABOVE  81% & ABOVE  Yes   COUSINE   \n",
      "2    YES         GOVT.  81% & ABOVE  81% & ABOVE  81% & ABOVE    NO     NONE   \n",
      "3    YES  OWN BUSINESS  81% & ABOVE  81% & ABOVE  81% & ABOVE    NO    OTHER   \n",
      "4    YES         GOVT.  81% & ABOVE  81% & ABOVE   71 To 80 %    NO     NONE   \n",
      "5    YES  OWN BUSINESS  81% & ABOVE   71 To 80 %  81% & ABOVE    NO     NONE   \n",
      "6     NO       PRIVATE   71 To 80 %   71 To 80 %  81% & ABOVE    NO     NONE   \n",
      "7    YES  OWN BUSINESS  81% & ABOVE  81% & ABOVE  81% & ABOVE    NO     NONE   \n",
      "8    YES         GOVT.  81% & ABOVE  81% & ABOVE  81% & ABOVE    NO    OTHER   \n",
      "9    YES       PRIVATE  81% & ABOVE  81% & ABOVE  81% & ABOVE    NO     NONE   \n",
      "10   YES         OTHER  81% & ABOVE  81% & ABOVE  81% & ABOVE    NO     NONE   \n",
      "11   YES         GOVT.  81% & ABOVE  81% & ABOVE  81% & ABOVE    NO     NONE   \n",
      "12   YES         GOVT.  81% & ABOVE  81% & ABOVE  81% & ABOVE    NO     NONE   \n",
      "13   YES         GOVT.  81% & ABOVE  81% & ABOVE  81% & ABOVE   YES    UNCLE   \n",
      "14   YES       PRIVATE  81% & ABOVE  81% & ABOVE  81% & ABOVE    NO     NONE   \n",
      "15   YES         GOVT.   71 To 80 %  81% & ABOVE   71 To 80 %    NO     NONE   \n",
      "16   YES       PRIVATE  81% & ABOVE  81% & ABOVE  81% & ABOVE    NO     NONE   \n",
      "17   YES       PRIVATE  81% & ABOVE  81% & ABOVE  81% & ABOVE    NO    OTHER   \n",
      "18    NO         GOVT.  81% & ABOVE  81% & ABOVE  81% & ABOVE    NO     NONE   \n",
      "19   YES         GOVT.  81% & ABOVE  81% & ABOVE  81% & ABOVE    NO     NONE   \n",
      "20   YES       PRIVATE   71 To 80 %   71 To 80 %  81% & ABOVE    NO     NONE   \n",
      "21   YES         GOVT.  81% & ABOVE  81% & ABOVE  81% & ABOVE    NO     NONE   \n",
      "22   YES       PRIVATE   71 To 80 %  81% & ABOVE  81% & ABOVE   YES  BROTHER   \n",
      "23   YES         GOVT.  81% & ABOVE  81% & ABOVE  81% & ABOVE    NO     NONE   \n",
      "24   YES  OWN BUSINESS  81% & ABOVE  81% & ABOVE  81% & ABOVE   YES  BROTHER   \n",
      "25   YES         GOVT.  81% & ABOVE  81% & ABOVE  81% & ABOVE    NO    OTHER   \n",
      "26   YES       PRIVATE  81% & ABOVE  81% & ABOVE  81% & ABOVE   YES  BROTHER   \n",
      "27   YES         GOVT.  81% & ABOVE  81% & ABOVE  81% & ABOVE    NO     NONE   \n",
      "28   YES  OWN BUSINESS  81% & ABOVE  81% & ABOVE  81% & ABOVE    NO     NONE   \n",
      "29    NO       PRIVATE  81% & ABOVE  81% & ABOVE  81% & ABOVE   YES   SISTER   \n",
      "..   ...           ...          ...          ...          ...   ...      ...   \n",
      "520  YES         GOVT.  81% & ABOVE  81% & ABOVE  81% & ABOVE   YES  BROTHER   \n",
      "521  YES         GOVT.  81% & ABOVE  81% & ABOVE  81% & ABOVE    NO     NONE   \n",
      "522  YES       PRIVATE  81% & ABOVE  81% & ABOVE  81% & ABOVE    NO     NONE   \n",
      "523  YES       PRIVATE  81% & ABOVE   71 To 80 %  81% & ABOVE    NO     NONE   \n",
      "524  YES         GOVT.  81% & ABOVE   71 To 80 %  81% & ABOVE    NO     NONE   \n",
      "525  YES       PRIVATE   71 To 80 %   71 To 80 %  81% & ABOVE    NO     NONE   \n",
      "526  YES       PRIVATE  81% & ABOVE  81% & ABOVE  81% & ABOVE    NO     NONE   \n",
      "527  YES         GOVT.  81% & ABOVE  81% & ABOVE  81% & ABOVE    NO     NONE   \n",
      "528  YES         GOVT.  81% & ABOVE  81% & ABOVE  81% & ABOVE    NO     NONE   \n",
      "529  YES         GOVT.  81% & ABOVE  81% & ABOVE  81% & ABOVE    NO     NONE   \n",
      "530  YES         GOVT.  81% & ABOVE   71 To 80 %  81% & ABOVE    NO     NONE   \n",
      "531  YES         GOVT.   71 To 80 %  81% & ABOVE  81% & ABOVE    NO     NONE   \n",
      "532  YES         GOVT.  81% & ABOVE  81% & ABOVE  81% & ABOVE    NO    OTHER   \n",
      "533  YES         GOVT.   71 To 80 %  81% & ABOVE  81% & ABOVE    NO     NONE   \n",
      "534  YES         GOVT.  81% & ABOVE  81% & ABOVE  81% & ABOVE    NO     NONE   \n",
      "535  YES         GOVT.   71 To 80 %   71 To 80 %  81% & ABOVE    NO     NONE   \n",
      "536  YES         GOVT.  81% & ABOVE  81% & ABOVE  81% & ABOVE    NO     NONE   \n",
      "537  YES       PRIVATE  81% & ABOVE  81% & ABOVE  81% & ABOVE    NO     NONE   \n",
      "538  YES       PRIVATE  81% & ABOVE   71 To 80 %  81% & ABOVE    NO     NONE   \n",
      "539  YES       PRIVATE   71 To 80 %  81% & ABOVE  81% & ABOVE    NO     NONE   \n",
      "540  YES       PRIVATE  81% & ABOVE  81% & ABOVE  81% & ABOVE    NO     NONE   \n",
      "541  YES  OWN BUSINESS  81% & ABOVE  81% & ABOVE  81% & ABOVE   YES  COUSINE   \n",
      "542  YES  OWN BUSINESS  81% & ABOVE  81% & ABOVE  81% & ABOVE    NO     NONE   \n",
      "543  YES         GOVT.   71 To 80 %  81% & ABOVE  81% & ABOVE    NO     NONE   \n",
      "544  YES         GOVT.  81% & ABOVE  81% & ABOVE  81% & ABOVE    NO     NONE   \n",
      "545  YES  OWN BUSINESS  81% & ABOVE   71 To 80 %  81% & ABOVE    NO     NONE   \n",
      "546  YES         GOVT.  81% & ABOVE  81% & ABOVE  81% & ABOVE    NO    OTHER   \n",
      "547  YES         GOVT.  81% & ABOVE   71 To 80 %  81% & ABOVE    NO     NONE   \n",
      "548  YES         GOVT.  81% & ABOVE  81% & ABOVE  81% & ABOVE    NO     NONE   \n",
      "549   NO       PRIVATE  81% & ABOVE  81% & ABOVE  81% & ABOVE   YES   SISTER   \n",
      "\n",
      "            q24  \n",
      "0    NonMedical  \n",
      "1    NonMedical  \n",
      "2    NonMedical  \n",
      "3    NonMedical  \n",
      "4    NonMedical  \n",
      "5    NonMedical  \n",
      "6    NonMedical  \n",
      "7    NonMedical  \n",
      "8    NonMedical  \n",
      "9    NonMedical  \n",
      "10   NonMedical  \n",
      "11   NonMedical  \n",
      "12   NonMedical  \n",
      "13   NonMedical  \n",
      "14   NonMedical  \n",
      "15   NonMedical  \n",
      "16   NonMedical  \n",
      "17   NonMedical  \n",
      "18   NonMedical  \n",
      "19   NonMedical  \n",
      "20   NonMedical  \n",
      "21   NonMedical  \n",
      "22   NonMedical  \n",
      "23   NonMedical  \n",
      "24   NonMedical  \n",
      "25   NonMedical  \n",
      "26   NonMedical  \n",
      "27   NonMedical  \n",
      "28   NonMedical  \n",
      "29   NonMedical  \n",
      "..          ...  \n",
      "520     Medical  \n",
      "521     Medical  \n",
      "522     Medical  \n",
      "523     Medical  \n",
      "524     Medical  \n",
      "525     Medical  \n",
      "526     Medical  \n",
      "527     Medical  \n",
      "528     Medical  \n",
      "529     Medical  \n",
      "530     Medical  \n",
      "531     Medical  \n",
      "532     Medical  \n",
      "533     Medical  \n",
      "534     Medical  \n",
      "535     Medical  \n",
      "536     Medical  \n",
      "537     Medical  \n",
      "538     Medical  \n",
      "539     Medical  \n",
      "540     Medical  \n",
      "541     Medical  \n",
      "542     Medical  \n",
      "543     Medical  \n",
      "544     Medical  \n",
      "545     Medical  \n",
      "546     Medical  \n",
      "547     Medical  \n",
      "548     Medical  \n",
      "549     Medical  \n",
      "\n",
      "[550 rows x 24 columns] <class 'pandas.core.frame.DataFrame'>\n"
     ]
    }
   ],
   "source": [
    "print(data1 ,type(data1))                "
   ]
  },
  {
   "cell_type": "code",
   "execution_count": 432,
   "metadata": {},
   "outputs": [
    {
     "name": "stdout",
     "output_type": "stream",
     "text": [
      "0          URBAN\n",
      "1          URBAN\n",
      "2      SUB URBAN\n",
      "3          RURAL\n",
      "4          URBAN\n",
      "5          RURAL\n",
      "6          RURAL\n",
      "7          RURAL\n",
      "8          URBAN\n",
      "9      SUB URBAN\n",
      "10         RURAL\n",
      "11     SUB URBAN\n",
      "12         RURAL\n",
      "13         URBAN\n",
      "14         URBAN\n",
      "15         RURAL\n",
      "16         RURAL\n",
      "17         RURAL\n",
      "18         RURAL\n",
      "19         URBAN\n",
      "20         RURAL\n",
      "21     SUB URBAN\n",
      "22         RURAL\n",
      "23         URBAN\n",
      "24         RURAL\n",
      "25         RURAL\n",
      "26         URBAN\n",
      "27         URBAN\n",
      "28         URBAN\n",
      "29         URBAN\n",
      "         ...    \n",
      "520        RURAL\n",
      "521        RURAL\n",
      "522        URBAN\n",
      "523    SUB URBAN\n",
      "524    SUB URBAN\n",
      "525        URBAN\n",
      "526        URBAN\n",
      "527    SUB URBAN\n",
      "528        URBAN\n",
      "529        URBAN\n",
      "530    SUB URBAN\n",
      "531        RURAL\n",
      "532        URBAN\n",
      "533        URBAN\n",
      "534        URBAN\n",
      "535        URBAN\n",
      "536    SUB URBAN\n",
      "537        URBAN\n",
      "538        URBAN\n",
      "539    SUB URBAN\n",
      "540        RURAL\n",
      "541        RURAL\n",
      "542    SUB URBAN\n",
      "543    SUB URBAN\n",
      "544        RURAL\n",
      "545        RURAL\n",
      "546        RURAL\n",
      "547        URBAN\n",
      "548        OTHER\n",
      "549        OTHER\n",
      "Name: q1, Length: 550, dtype: object\n"
     ]
    }
   ],
   "source": [
    "q1 = data1['q1']                                             # print the first column that is \"question 1\" from the dataset \n",
    "print(q1)"
   ]
  },
  {
   "cell_type": "code",
   "execution_count": 433,
   "metadata": {},
   "outputs": [
    {
     "name": "stdout",
     "output_type": "stream",
     "text": [
      "Counter({'URBAN': 244, 'RURAL': 195, 'SUB URBAN': 108, 'OTHER': 3}) <class 'collections.Counter'>\n"
     ]
    },
    {
     "data": {
      "text/plain": [
       "dict_items([('URBAN', 244), ('SUB URBAN', 108), ('RURAL', 195), ('OTHER', 3)])"
      ]
     },
     "execution_count": 433,
     "metadata": {},
     "output_type": "execute_result"
    }
   ],
   "source": [
    "count_q1 = collections.Counter(q1)                                    # count the total frequency of a perticular field\n",
    "print(count_q1,type(count_q1))\n",
    "\n",
    "\n",
    "count_q1.items()"
   ]
  },
  {
   "cell_type": "code",
   "execution_count": 434,
   "metadata": {},
   "outputs": [
    {
     "name": "stdout",
     "output_type": "stream",
     "text": [
      "[244, 195, 108, 3]\n"
     ]
    }
   ],
   "source": [
    "sort_q1 = sorted(count_q1.values(),reverse=True)                     # sort the frequency in reverce order\n",
    "print(sort_q1)"
   ]
  },
  {
   "cell_type": "code",
   "execution_count": 435,
   "metadata": {},
   "outputs": [
    {
     "name": "stdout",
     "output_type": "stream",
     "text": [
      "((0.44363636363636366, 0.35454545454545455, 0.19636363636363635, 0.005454545454545455), <class 'tuple'>)\n",
      "[0.44363636 0.35454545 0.19636364 0.00545455]\n"
     ]
    }
   ],
   "source": [
    "a=urban =244                                        # elements with there frequency\n",
    "b=rural=195\n",
    "c=sub_urban=108\n",
    "d=others=3\n",
    "\n",
    "avg_a= (a/550)                                       # avarge formula \n",
    "avg_b= (b/550)\n",
    "avg_c= (c/550)\n",
    "avg_d= (d/550)\n",
    "prob_q1=(avg_a,avg_b,avg_c,avg_d)                   #collect all avarges  results in \"prob_q1\"\n",
    "ka=(prob_q1,type(prob_q1))\n",
    "print(ka)\n",
    "\n",
    "\n",
    "ha= np.array(prob_q1)                               # convert the tuple with array and print the array\n",
    "print(ha)"
   ]
  },
  {
   "cell_type": "code",
   "execution_count": 436,
   "metadata": {},
   "outputs": [
    {
     "name": "stdout",
     "output_type": "stream",
     "text": [
      "[[0.44363636]\n",
      " [0.35454545]\n",
      " [0.19636364]\n",
      " [0.00545455]]\n"
     ]
    }
   ],
   "source": [
    "sort_q1 = -np.sort(-ha)                                           #sort the array with  \"sort_q1\" name\n",
    "#print(sort_q1)\n",
    "\n",
    "sort_q1_matrix = np.asmatrix(sort_q1)                           # convert the array into matrix  with name \"sort_q1_matrix\"\n",
    "\n",
    "#print(sort_q1_matrix)\n",
    "sort_q1_matrix_traspose = numpy.transpose(sort_q1_matrix)\n",
    "\n",
    "print(sort_q1_matrix_traspose)                                  # transpose the original matrix with \"sort_q1_matrix_traspose\" name\n"
   ]
  },
  {
   "cell_type": "code",
   "execution_count": 437,
   "metadata": {},
   "outputs": [
    {
     "name": "stdout",
     "output_type": "stream",
     "text": [
      "[[0.19636364]\n",
      " [0.00545455]]\n",
      "0.2018181818181818\n"
     ]
    }
   ],
   "source": [
    "matrix_1=sort_q1_matrix_traspose.copy()                       # create a new  first duplicate matrix\n",
    "#print(duplicate)\n",
    "n= matrix_1[2:,:]\n",
    "print(n)\n",
    "\n",
    "g= np.sum(matrix_1[2:,:])                                 # sum of last two row of the first matrix with name \"g\"\n",
    "print(g)\n"
   ]
  },
  {
   "cell_type": "code",
   "execution_count": 438,
   "metadata": {},
   "outputs": [
    {
     "name": "stdout",
     "output_type": "stream",
     "text": [
      "[[0.44363636]\n",
      " [0.35454545]\n",
      " [0.20181818]\n",
      " [0.        ]]\n"
     ]
    }
   ],
   "source": [
    "matrix_1[2:,]=g\n",
    "matrix_1[3:,]=0                                         # replace the values with new one on duplicate matrix\n",
    "print (matrix_1)"
   ]
  },
  {
   "cell_type": "code",
   "execution_count": 439,
   "metadata": {},
   "outputs": [
    {
     "name": "stdout",
     "output_type": "stream",
     "text": [
      "[[0.44363636]\n",
      " [0.35454545]\n",
      " [0.20181818]\n",
      " [0.        ]]\n"
     ]
    }
   ],
   "source": [
    "matrix_1=matrix_1[::1]                        \n",
    "print(matrix_1)                                          # sort a first duplicate matrix"
   ]
  },
  {
   "cell_type": "code",
   "execution_count": 440,
   "metadata": {},
   "outputs": [
    {
     "name": "stdout",
     "output_type": "stream",
     "text": [
      "[[0.44363636]\n",
      " [0.35454545]\n",
      " [0.20181818]\n",
      " [0.        ]]\n"
     ]
    }
   ],
   "source": [
    "matrix_2=matrix_1.copy()                                       # create a new sedcond duplicate matrix\n",
    "print (matrix_2)"
   ]
  },
  {
   "cell_type": "code",
   "execution_count": 441,
   "metadata": {},
   "outputs": [
    {
     "name": "stdout",
     "output_type": "stream",
     "text": [
      "0.5563636363636364\n"
     ]
    }
   ],
   "source": [
    "g2= np.sum(matrix_2[1:,:])                                # sum of the lst two values of the second duplicate matrix \n",
    "print(g2)\n"
   ]
  },
  {
   "cell_type": "code",
   "execution_count": 442,
   "metadata": {},
   "outputs": [
    {
     "name": "stdout",
     "output_type": "stream",
     "text": [
      "[[0.44363636]\n",
      " [0.55636364]\n",
      " [0.        ]\n",
      " [0.        ]]\n"
     ]
    }
   ],
   "source": [
    "matrix_2[1:,]=g2                                         # replace the values with new one on second duplicate matrix\n",
    "matrix_2[2:,]=0\n",
    "print (matrix_2)"
   ]
  },
  {
   "cell_type": "code",
   "execution_count": 443,
   "metadata": {},
   "outputs": [
    {
     "name": "stdout",
     "output_type": "stream",
     "text": [
      "[[0.        ]\n",
      " [0.        ]\n",
      " [0.55636364]\n",
      " [0.44363636]]\n"
     ]
    }
   ],
   "source": [
    "matrix_2 = matrix_2[::-1]\n",
    "print(matrix_2)"
   ]
  },
  {
   "cell_type": "code",
   "execution_count": 445,
   "metadata": {},
   "outputs": [
    {
     "name": "stdout",
     "output_type": "stream",
     "text": [
      "[[0.44363636 0.44363636 0.        ]\n",
      " [0.35454545 0.35454545 0.        ]\n",
      " [0.19636364 0.20181818 0.55636364]\n",
      " [0.00545455 0.         0.44363636]]\n"
     ]
    }
   ],
   "source": [
    "final_matrix_1= numpy.hstack((sort_q1_matrix_traspose,matrix_1,matrix_2))        # final matrix of qusetion 1\n",
    "print(final_matrix_1)"
   ]
  },
  {
   "cell_type": "code",
   "execution_count": 446,
   "metadata": {},
   "outputs": [
    {
     "name": "stdout",
     "output_type": "stream",
     "text": [
      "[[0.444 0.444 0.556]\n",
      " [0.355 0.355 0.444]\n",
      " [0.196 0.202 0.   ]\n",
      " [0.005 0.    0.   ]]\n"
     ]
    }
   ],
   "source": [
    "final_matrix_1[0,2]=final_matrix_1[2,2]\n",
    "final_matrix_1[1,2]=final_matrix_1[3,2]   \n",
    "final_matrix_1[2,2]=0   \n",
    "final_matrix_1[3,2]=0                       # replace the values with new one on duplicate matrix\n",
    "np.set_printoptions(precision=3)\n",
    "print (final_matrix_1)"
   ]
  },
  {
   "cell_type": "code",
   "execution_count": 447,
   "metadata": {},
   "outputs": [
    {
     "name": "stdout",
     "output_type": "stream",
     "text": [
      "{'sub_ur': 0.196, 'urban': 0.444, 'rural': 0.355, 'other': 0.005}\n"
     ]
    }
   ],
   "source": [
    "mydic= {\n",
    "   \"sub_ur\": 0.196, \"urban\":0.444, \"rural\": 0.355 ,\"other\":0.005\n",
    "}\n",
    "\n",
    "print(mydic)"
   ]
  },
  {
   "cell_type": "code",
   "execution_count": 448,
   "metadata": {},
   "outputs": [
    {
     "name": "stdout",
     "output_type": "stream",
     "text": [
      "[('other', 0.005), ('rural', 0.355), ('sub_ur', 0.196), ('urban', 0.444)]\n"
     ]
    }
   ],
   "source": [
    "print (sorted(mydic.items()))"
   ]
  },
  {
   "cell_type": "code",
   "execution_count": 449,
   "metadata": {},
   "outputs": [
    {
     "name": "stdout",
     "output_type": "stream",
     "text": [
      "[('urban', 0.444), ('rural', 0.355), ('sub_ur', 0.196), ('other', 0.005)]\n"
     ]
    }
   ],
   "source": [
    "mydic_sort= (sorted(mydic.items(),key = lambda x : x[1],reverse=True))\n",
    "print(mydic_sort)"
   ]
  },
  {
   "cell_type": "code",
   "execution_count": 450,
   "metadata": {},
   "outputs": [
    {
     "name": "stdout",
     "output_type": "stream",
     "text": [
      "[[('urban', 0.444), ('rural', 0.355), ('sub_ur', 0.196), ('other', 0.005)]]\n"
     ]
    }
   ],
   "source": [
    "matrix_mydic =  [mydic_sort]\n",
    "print(matrix_mydic)"
   ]
  },
  {
   "cell_type": "code",
   "execution_count": 451,
   "metadata": {},
   "outputs": [
    {
     "name": "stdout",
     "output_type": "stream",
     "text": [
      "[[['urban']\n",
      "  ['rural']\n",
      "  ['sub_ur']\n",
      "  ['other']]\n",
      "\n",
      " [['0.444']\n",
      "  ['0.355']\n",
      "  ['0.196']\n",
      "  ['0.005']]]\n"
     ]
    }
   ],
   "source": [
    "matrix_mydic=  numpy.transpose(matrix_mydic)\n",
    "print(matrix_mydic)\n"
   ]
  },
  {
   "cell_type": "code",
   "execution_count": 413,
   "metadata": {},
   "outputs": [],
   "source": [
    "class Node:\n",
    "    def __init__(self, name, p):\n",
    "        self.left = None\n",
    "        self.right = None\n",
    "        self.name = name\n",
    "        self.p = p\n",
    "       \n",
    "    def get_codes(self, h=1, code='', result=None):\n",
    "        if result == None:\n",
    "            result = []\n",
    "        if self.left == None and self.right == None:\n",
    "            #print (self.name, self.p), code\n",
    "            result.append((self.name, self.p, code))\n",
    "        else:\n",
    "            print (self.name, self.p)\n",
    "        if self.left != None:\n",
    "            #print ('    ' * h,)\n",
    "            self.left.get_codes(h+1, code+'1', result)\n",
    "        if self.right != None:\n",
    "            print ('    ' * h,)\n",
    "            self.right.get_codes(h+1, code+'0', result)\n",
    "        return result\n",
    "\n",
    "    def height(self, h=1):\n",
    "        hl = hr = 1\n",
    "        if self.left != None:\n",
    "            hl = self.left.height(h+1)\n",
    "        if self.right != None:\n",
    "            hr = self.right.height(h+1)\n",
    "        return max(h, hl, hr)\n",
    "    \n",
    "    def swap(self):\n",
    "        if self.left == None or self.right == None:\n",
    "            return\n",
    "        if self.left.height() > self.right.height():\n",
    "            self.left, self.right = self.right, self.left\n",
    "        self.left.swap()\n",
    "        self.right.swap()"
   ]
  },
  {
   "cell_type": "code",
   "execution_count": 414,
   "metadata": {},
   "outputs": [],
   "source": [
    "def merge_nodes(nodes):\n",
    "    if len(nodes) == 1:\n",
    "        return nodes[0]\n",
    "    nodes.sort(key=cmp_to_key(lambda x, y: (y.p > x.p) - (y.p < x.p)))\n",
    "    c1, c2 = nodes.pop(), nodes.pop()\n",
    "    parent = Node(c1.name + c2.name, c1.p + c2.p)\n",
    "    parent.left, parent.right = c1, c2\n",
    "    nodes.append(parent)\n",
    "    return merge_nodes(nodes)"
   ]
  },
  {
   "cell_type": "code",
   "execution_count": 415,
   "metadata": {},
   "outputs": [],
   "source": [
    "def huffman(p_list):\n",
    "    nodes = [Node(chr(ord('a') + c), p)\n",
    "             for (c, p) in enumerate(p_list)]\n",
    "    head = merge_nodes(nodes)\n",
    "\n",
    "   #head.swap()\n",
    "    result = head.get_codes()\n",
    "\n",
    "    entropy = 0\n",
    "    length = 0\n",
    "    for (name, p, code) in result:\n",
    "        print (name, p, code)\n",
    "        entropy += -p * np.log2(p)\n",
    "        length += p * len(code)\n",
    "   \n",
    "    \n",
    "    \n",
    "    return result\n",
    "   "
   ]
  },
  {
   "cell_type": "code",
   "execution_count": 416,
   "metadata": {},
   "outputs": [
    {
     "name": "stdout",
     "output_type": "stream",
     "text": [
      "bcda 1.0\n",
      "    \n",
      "cda 0.556\n",
      "cd 0.201\n",
      "            \n",
      "        \n",
      "b 0.444 1\n",
      "c 0.005 011\n",
      "d 0.196 010\n",
      "a 0.355 00\n",
      "[('b', 0.444, '1'), ('c', 0.005, '011'), ('d', 0.196, '010'), ('a', 0.355, '00')]\n",
      "<class 'list'>\n"
     ]
    }
   ],
   "source": [
    "p_list = [0.355,0.444, 0.005, 0.196]\n",
    "result=huffman(p_list)\n",
    "print(result)\n",
    "print(type(result))"
   ]
  },
  {
   "cell_type": "code",
   "execution_count": 417,
   "metadata": {},
   "outputs": [],
   "source": [
    "\n",
    "def binaryToDecimal(n): \n",
    "    num = n; \n",
    "    dec_value = 0; \n",
    "      \n",
    "    # Initializing base  \n",
    "    # value to 1, i.e 2 ^ 0 \n",
    "    base1 = 1; \n",
    "      \n",
    "    len1 = len(num); \n",
    "    for i in range(len1 - 1, -1, -1): \n",
    "        if (num[i] == '1'):      \n",
    "            dec_value += base1; \n",
    "        base1 = base1 * 2; \n",
    "      \n",
    "    return dec_value; \n",
    "\n",
    "ak=0\n",
    "empty_1=[]\n",
    "list_1= [\"URBAN\",\"OTHER\",\"SUB URBAN\",\"RURAL\"]\n",
    "for ankit,gupta, kapil in result:\n",
    "    \n",
    "    ankit=list_1[ak] \n",
    "    kapil= binaryToDecimal(kapil)\n",
    "    empty_1.append([ankit,kapil])\n",
    "    ak+=1\n",
    "    #print(ankit)\n",
    "\n"
   ]
  },
  {
   "cell_type": "code",
   "execution_count": 418,
   "metadata": {},
   "outputs": [
    {
     "name": "stdout",
     "output_type": "stream",
     "text": [
      "[('b', 0.444, '1'), ('c', 0.005, '011'), ('d', 0.196, '010'), ('a', 0.355, '00')]\n",
      "[['URBAN', 1], ['OTHER', 3], ['SUB URBAN', 2], ['RURAL', 0]]\n"
     ]
    }
   ],
   "source": [
    "print(result)\n",
    "print(empty_1)"
   ]
  },
  {
   "cell_type": "code",
   "execution_count": 397,
   "metadata": {},
   "outputs": [],
   "source": []
  },
  {
   "cell_type": "code",
   "execution_count": null,
   "metadata": {},
   "outputs": [],
   "source": []
  }
 ],
 "metadata": {
  "kernelspec": {
   "display_name": "Python 3",
   "language": "python",
   "name": "python3"
  },
  "language_info": {
   "codemirror_mode": {
    "name": "ipython",
    "version": 3
   },
   "file_extension": ".py",
   "mimetype": "text/x-python",
   "name": "python",
   "nbconvert_exporter": "python",
   "pygments_lexer": "ipython3",
   "version": "3.6.7"
  }
 },
 "nbformat": 4,
 "nbformat_minor": 2
}
